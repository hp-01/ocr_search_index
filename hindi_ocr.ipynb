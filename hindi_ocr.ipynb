{
 "cells": [
  {
   "cell_type": "code",
   "execution_count": 5,
   "metadata": {},
   "outputs": [],
   "source": [
    "from typing import Sequence\n",
    "from google.cloud import vision\n",
    "import os\n",
    "os.environ[\"GOOGLE_APPLICATION_CREDENTIALS\"] = \"credentials.json\"\n",
    "os.environ['TF_CPP_MIN_LOG_LEVEL'] = '1' "
   ]
  },
  {
   "cell_type": "code",
   "execution_count": 5,
   "metadata": {},
   "outputs": [
    {
     "name": "stdout",
     "output_type": "stream",
     "text": [
      "c:\\Users\\Harsh Pandey\\Desktop\\msc_project\\storage\\64d909a4c519b33b2ebf0a7e\n"
     ]
    }
   ],
   "source": [
    "import io\n",
    "file_name = os.path.abspath('storage/64d909a4c519b33b2ebf0a7e')\n",
    "print(file_name)\n",
    "# Loads the image into memory\n",
    "with io.open(file_name, 'rb') as image_file:\n",
    "    content = image_file.read()\n"
   ]
  },
  {
   "cell_type": "code",
   "execution_count": 1,
   "metadata": {},
   "outputs": [
    {
     "ename": "NameError",
     "evalue": "name 'vision' is not defined",
     "output_type": "error",
     "traceback": [
      "\u001b[0;31m---------------------------------------------------------------------------\u001b[0m",
      "\u001b[0;31mNameError\u001b[0m                                 Traceback (most recent call last)",
      "Cell \u001b[0;32mIn[1], line 2\u001b[0m\n\u001b[1;32m      1\u001b[0m \u001b[39mimport\u001b[39;00m \u001b[39mproto\u001b[39;00m\n\u001b[0;32m----> 2\u001b[0m image \u001b[39m=\u001b[39m vision\u001b[39m.\u001b[39mImage(content\u001b[39m=\u001b[39mcontent)\n\u001b[1;32m      3\u001b[0m client \u001b[39m=\u001b[39m vision\u001b[39m.\u001b[39mImageAnnotatorClient()\n\u001b[1;32m      4\u001b[0m response \u001b[39m=\u001b[39m client\u001b[39m.\u001b[39mtext_detection(image\u001b[39m=\u001b[39mimage)\n",
      "\u001b[0;31mNameError\u001b[0m: name 'vision' is not defined"
     ]
    }
   ],
   "source": [
    "import proto\n",
    "image = vision.Image(content=content)\n",
    "client = vision.ImageAnnotatorClient()\n",
    "response = client.text_detection(image=image)\n",
    "response = proto.Message.to_dict(response)\n",
    "response = response[\"full_text_annotation\"][\"text\"]\n",
    "print(response.replace(\"\\n\", \" \"))\n"
   ]
  },
  {
   "cell_type": "code",
   "execution_count": 3,
   "metadata": {},
   "outputs": [
    {
     "name": "stderr",
     "output_type": "stream",
     "text": [
      "2023-08-15 13:22:37.947917: I tensorflow/core/util/port.cc:110] oneDNN custom operations are on. You may see slightly different numerical results due to floating-point round-off errors from different computation orders. To turn them off, set the environment variable `TF_ENABLE_ONEDNN_OPTS=0`.\n",
      "2023-08-15 13:22:37.971835: I tensorflow/core/platform/cpu_feature_guard.cc:182] This TensorFlow binary is optimized to use available CPU instructions in performance-critical operations.\n",
      "To enable the following instructions: SSE4.1 SSE4.2 AVX AVX2 AVX512F AVX512_VNNI FMA, in other operations, rebuild TensorFlow with the appropriate compiler flags.\n"
     ]
    }
   ],
   "source": [
    "import spacy\n",
    "nlp = spacy.load(\"en_core_web_sm\")\n",
    "stop_words = spacy.lang.en.stop_words.STOP_WORDS"
   ]
  },
  {
   "cell_type": "code",
   "execution_count": 6,
   "metadata": {},
   "outputs": [
    {
     "name": "stdout",
     "output_type": "stream",
     "text": [
      "['example', 'example', 'write', 'handwritten', 'good']\n",
      "{'write', 'handwritten', 'good', 'example'}\n"
     ]
    }
   ],
   "source": [
    "doc = nlp(\"This is Example example Write as a handwritten good as you can.\".lower())\n",
    "filtered_tokens = [token.lemma_ for token in doc if not token.is_stop and not token.is_punct] \n",
    "print(filtered_tokens)\n",
    "filtered_tokens = set(filtered_tokens)\n",
    "print(filtered_tokens)\n"
   ]
  },
  {
   "cell_type": "code",
   "execution_count": 8,
   "metadata": {},
   "outputs": [
    {
     "ename": "TypeError",
     "evalue": "Collection.update_many() missing 1 required positional argument: 'update'",
     "output_type": "error",
     "traceback": [
      "\u001b[0;31m---------------------------------------------------------------------------\u001b[0m",
      "\u001b[0;31mTypeError\u001b[0m                                 Traceback (most recent call last)",
      "Cell \u001b[0;32mIn[8], line 13\u001b[0m\n\u001b[1;32m      9\u001b[0m search \u001b[39m=\u001b[39m database[\u001b[39m\"\u001b[39m\u001b[39msearch\u001b[39m\u001b[39m\"\u001b[39m]\n\u001b[1;32m     10\u001b[0m \u001b[39m# search.insert_one({\"word\": \"hello\", \"documents\": []})\u001b[39;00m\n\u001b[1;32m     11\u001b[0m \u001b[39m# search.insert_one({\"word\": \"world\", \"documents\": []})\u001b[39;00m\n\u001b[0;32m---> 13\u001b[0m search\u001b[39m.\u001b[39;49mupdate_many([[{\u001b[39m\"\u001b[39;49m\u001b[39mword\u001b[39;49m\u001b[39m\"\u001b[39;49m: \u001b[39m\"\u001b[39;49m\u001b[39mworld\u001b[39;49m\u001b[39m\"\u001b[39;49m}, {\u001b[39m\"\u001b[39;49m\u001b[39m$addToSet\u001b[39;49m\u001b[39m\"\u001b[39;49m: {\u001b[39m\"\u001b[39;49m\u001b[39mdocuments\u001b[39;49m\u001b[39m\"\u001b[39;49m: {\n\u001b[1;32m     14\u001b[0m                   \u001b[39m\"\u001b[39;49m\u001b[39m$each\u001b[39;49m\u001b[39m\"\u001b[39;49m: [\u001b[39m\"\u001b[39;49m\u001b[39mdocument1\u001b[39;49m\u001b[39m\"\u001b[39;49m]}}}], [{\u001b[39m\"\u001b[39;49m\u001b[39mword\u001b[39;49m\u001b[39m\"\u001b[39;49m: \u001b[39m\"\u001b[39;49m\u001b[39mhello\u001b[39;49m\u001b[39m\"\u001b[39;49m}, {\u001b[39m\"\u001b[39;49m\u001b[39m$addToSet\u001b[39;49m\u001b[39m\"\u001b[39;49m: {\u001b[39m\"\u001b[39;49m\u001b[39mdocuments\u001b[39;49m\u001b[39m\"\u001b[39;49m: {\n\u001b[1;32m     15\u001b[0m                   \u001b[39m\"\u001b[39;49m\u001b[39m$each\u001b[39;49m\u001b[39m\"\u001b[39;49m: [\u001b[39m\"\u001b[39;49m\u001b[39mdocument1\u001b[39;49m\u001b[39m\"\u001b[39;49m]}}}]], upsert\u001b[39m=\u001b[39;49m\u001b[39mTrue\u001b[39;49;00m)\n",
      "\u001b[0;31mTypeError\u001b[0m: Collection.update_many() missing 1 required positional argument: 'update'"
     ]
    }
   ],
   "source": [
    "import os\n",
    "import tkinter as tk\n",
    "from tkinter import filedialog\n",
    "import pymongo\n",
    "from pymongo import MongoClient\n",
    "client = MongoClient()\n",
    "\n",
    "database = client[\"msc_project\"]\n",
    "search = database[\"search\"]\n",
    "# search.insert_one({\"word\": \"hello\", \"documents\": []})\n",
    "# search.insert_one({\"word\": \"world\", \"documents\": []})\n",
    "arr = []\n",
    "search.update_one({\"word\": \"world\"}, {\"$addToSet\": {\"documents\": {\n",
    "                  \"$each\": [\"document1\"]}}})"
   ]
  },
  {
   "cell_type": "code",
   "execution_count": 27,
   "metadata": {},
   "outputs": [
    {
     "name": "stdout",
     "output_type": "stream",
     "text": [
      "document1 2\n"
     ]
    }
   ],
   "source": [
    "documents = {}\n",
    "for item in search.find({\"$text\": {\"$search\": \"hello world\"}}):\n",
    "    for document in item[\"documents\"]:\n",
    "        if documents.get(document) is None: documents[document] =  1\n",
    "        else: documents[document] += 1\n",
    "result = []\n",
    "for item in sorted(documents.items(), key=lambda x: x[1], reverse=True):\n",
    "    result.append(item)\n",
    "print(result[0][0], result[0][1])\n",
    "\n",
    "# print(search.aggregate([{\"$match\": {\"$text\": {\"$search\": \"hello world\"}}}]))\n",
    "# for item in search.aggregate([{\"$match\": {\"$text\": {\"$search\": \"hello world\"}}}, {\"$group\": {\n",
    "#     \"_id\": None,\n",
    "#     \"selectedTags\": {\"$push\": '$documents'}\n",
    "# }},\n",
    "#         {\"$project\": {\n",
    "#             \"documents\": {\"$reduce\": {\n",
    "#                 \"input\": \"$selectedTags\",\n",
    "#                 \"initialValue\": [],\n",
    "#                 \"in\": {\"$setUnion\": [\"$$value\", \"$$this\"]},\n",
    "#             }},\n",
    "            \n",
    "#         }}]):\n",
    "#     print(item)\n"
   ]
  }
 ],
 "metadata": {
  "kernelspec": {
   "display_name": "Python 3.9.16 ('base')",
   "language": "python",
   "name": "python3"
  },
  "language_info": {
   "codemirror_mode": {
    "name": "ipython",
    "version": 3
   },
   "file_extension": ".py",
   "mimetype": "text/x-python",
   "name": "python",
   "nbconvert_exporter": "python",
   "pygments_lexer": "ipython3",
   "version": "3.10.12"
  },
  "orig_nbformat": 4,
  "vscode": {
   "interpreter": {
    "hash": "ad2bdc8ecc057115af97d19610ffacc2b4e99fae6737bb82f5d7fb13d2f2c186"
   }
  }
 },
 "nbformat": 4,
 "nbformat_minor": 2
}

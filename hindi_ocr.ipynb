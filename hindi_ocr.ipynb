{
 "cells": [
  {
   "cell_type": "code",
   "execution_count": 4,
   "metadata": {},
   "outputs": [],
   "source": [
    "from typing import Sequence\n",
    "from google.cloud import vision\n",
    "import os\n",
    "os.environ[\"GOOGLE_APPLICATION_CREDENTIALS\"] = \"credentials.json\"\n"
   ]
  },
  {
   "cell_type": "code",
   "execution_count": 5,
   "metadata": {},
   "outputs": [
    {
     "name": "stdout",
     "output_type": "stream",
     "text": [
      "c:\\Users\\Harsh Pandey\\Desktop\\msc_project\\storage\\64d909a4c519b33b2ebf0a7e\n"
     ]
    }
   ],
   "source": [
    "import io\n",
    "file_name = os.path.abspath('storage/64d909a4c519b33b2ebf0a7e')\n",
    "print(file_name)\n",
    "# Loads the image into memory\n",
    "with io.open(file_name, 'rb') as image_file:\n",
    "    content = image_file.read()\n"
   ]
  },
  {
   "cell_type": "code",
   "execution_count": 25,
   "metadata": {},
   "outputs": [
    {
     "name": "stdout",
     "output_type": "stream",
     "text": [
      "This is example Write as a handwritten good as you can.\n"
     ]
    }
   ],
   "source": [
    "import proto\n",
    "image = vision.Image(content=content)\n",
    "client = vision.ImageAnnotatorClient()\n",
    "response = client.text_detection(image=image)\n",
    "response = proto.Message.to_dict(response)\n",
    "response = response[\"full_text_annotation\"][\"text\"]\n",
    "print(response.replace(\"\\n\", \" \"))\n"
   ]
  },
  {
   "cell_type": "code",
   "execution_count": 2,
   "metadata": {},
   "outputs": [],
   "source": [
    "import spacy\n",
    "nlp = spacy.load(\"en_core_web_sm\")\n",
    "stop_words = spacy.lang.en.stop_words.STOP_WORDS\n"
   ]
  },
  {
   "cell_type": "code",
   "execution_count": 8,
   "metadata": {},
   "outputs": [
    {
     "name": "stdout",
     "output_type": "stream",
     "text": [
      "['example', 'example', 'write', 'handwritten', 'good', '.']\n",
      "{'handwritten', '.', 'write', 'example', 'good'}\n"
     ]
    }
   ],
   "source": [
    "doc = nlp(\"This is Example example Write as a handwritten good as you can.\".lower())\n",
    "filtered_tokens = [token.lemma_ for token in doc if not token.is_stop]\n",
    "print(filtered_tokens)\n",
    "filtered_tokens = set(filtered_tokens)\n",
    "print(filtered_tokens)\n"
   ]
  },
  {
   "cell_type": "code",
   "execution_count": 13,
   "metadata": {},
   "outputs": [
    {
     "data": {
      "text/plain": [
       "<pymongo.results.UpdateResult at 0x1bf27465be0>"
      ]
     },
     "execution_count": 13,
     "metadata": {},
     "output_type": "execute_result"
    }
   ],
   "source": [
    "import os\n",
    "import tkinter as tk\n",
    "from tkinter import filedialog\n",
    "import pymongo\n",
    "from pymongo import MongoClient\n",
    "client = MongoClient()\n",
    "\n",
    "database = client[\"msc_project\"]\n",
    "search = database[\"search\"]\n",
    "# search.insert_one({\"word\": \"hello\", \"documents\": []})\n",
    "\n",
    "search.update_one({\"word\": \"hello\"}, {\"$addToSet\": {\"documents\": {\n",
    "                  \"$each\": [\"document1\", \"document2\", \"document3\", \"document1\"]}}})\n"
   ]
  },
  {
   "cell_type": "code",
   "execution_count": 82,
   "metadata": {},
   "outputs": [
    {
     "name": "stdout",
     "output_type": "stream",
     "text": [
      "{'document1': 2, 'document2': 1, 'document3': 1}\n"
     ]
    }
   ],
   "source": [
    "documents = {}\n",
    "for item in search.find({\"$text\": {\"$search\": \"hello world\"}}):\n",
    "    for document in item[\"documents\"]:\n",
    "        if documents.get(document) is None: a[document] =  1\n",
    "        else: documents[document] += 1\n",
    "print(documents)\n",
    "\n",
    "# print(search.aggregate([{\"$match\": {\"$text\": {\"$search\": \"hello world\"}}}]))\n",
    "# for item in search.aggregate([{\"$match\": {\"$text\": {\"$search\": \"hello world\"}}}, {\"$group\": {\n",
    "#     \"_id\": None,\n",
    "#     \"selectedTags\": {\"$push\": '$documents'}\n",
    "# }},\n",
    "#         {\"$project\": {\n",
    "#             \"documents\": {\"$reduce\": {\n",
    "#                 \"input\": \"$selectedTags\",\n",
    "#                 \"initialValue\": [],\n",
    "#                 \"in\": {\"$setUnion\": [\"$$value\", \"$$this\"]},\n",
    "#             }},\n",
    "            \n",
    "#         }}]):\n",
    "#     print(item)\n"
   ]
  }
 ],
 "metadata": {
  "kernelspec": {
   "display_name": "Python 3.9.16 ('base')",
   "language": "python",
   "name": "python3"
  },
  "language_info": {
   "codemirror_mode": {
    "name": "ipython",
    "version": 3
   },
   "file_extension": ".py",
   "mimetype": "text/x-python",
   "name": "python",
   "nbconvert_exporter": "python",
   "pygments_lexer": "ipython3",
   "version": "3.9.16"
  },
  "orig_nbformat": 4,
  "vscode": {
   "interpreter": {
    "hash": "ad2bdc8ecc057115af97d19610ffacc2b4e99fae6737bb82f5d7fb13d2f2c186"
   }
  }
 },
 "nbformat": 4,
 "nbformat_minor": 2
}
